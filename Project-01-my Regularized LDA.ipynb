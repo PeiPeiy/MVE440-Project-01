{
 "cells": [
  {
   "cell_type": "code",
   "execution_count": 1,
   "metadata": {},
   "outputs": [],
   "source": [
    "import pandas as pd\n",
    "import numpy as np\n",
    "from sklearn.discriminant_analysis import LinearDiscriminantAnalysis as LDA\n",
    "import matplotlib.pyplot as plt\n",
    "\n",
    "from sklearn.metrics import accuracy_score"
   ]
  },
  {
   "cell_type": "code",
   "execution_count": 2,
   "metadata": {},
   "outputs": [],
   "source": [
    "X_train = np.loadtxt(\"Dataset/train/X_train.txt\")\n",
    "y_train = np.loadtxt(\"Dataset/train/y_train.txt\")\n",
    "\n",
    "X_test = np.loadtxt(\"Dataset/test/X_test.txt\")\n",
    "y_test = np.loadtxt(\"Dataset/test/y_test.txt\")"
   ]
  },
  {
   "cell_type": "code",
   "execution_count": 3,
   "metadata": {},
   "outputs": [],
   "source": [
    "def standardize(X_train, X_test):\n",
    "    mu = np.mean(X_train, axis=0)\n",
    "    std = np.std(X_train, axis=0)\n",
    "    \n",
    "    X_train_standardized = (X_train - mu)/std\n",
    "    X_test_standardized = (X_test - mu)/std\n",
    "    return X_train_standardized, X_test_standardized\n",
    "\n",
    "X_train, X_test = standardize(X_train, X_test)"
   ]
  },
  {
   "cell_type": "code",
   "execution_count": 4,
   "metadata": {},
   "outputs": [],
   "source": [
    "def get_pooled_cov(X_train, y_train):\n",
    "\n",
    "    class_num = np.unique(y_train).astype(int)\n",
    "    K = len(class_num)\n",
    "    \n",
    "    p = len(X_train[0,:])\n",
    "    \n",
    "    N = len(X_train[:,0])\n",
    "    \n",
    "    pooled_cov = np.zeros((p,p))\n",
    "    \n",
    "    mu = []\n",
    "    \n",
    "    pi = np.zeros((K))\n",
    "    \n",
    "    for i in class_num:\n",
    "        idx = np.array(np.where(y_train == i))\n",
    "        # print(i)\n",
    "        \n",
    "        idx = idx[0]        \n",
    "        # print(idx)\n",
    "        \n",
    "        X_train_class_i = X_train[idx,:]\n",
    "        # print(y_train[idx])\n",
    "        \n",
    "        pi[i-1] = len(X_train_class_i[:,0]) / N\n",
    "        \n",
    "        mu_i = np.matrix(np.mean(X_train_class_i, axis=0)).T\n",
    "        mu.append(mu_i)\n",
    "        \n",
    "        # print(mu_i.shape)\n",
    "        \n",
    "        for j in range(len(X_train_class_i)):\n",
    "            # pooled_cov = pooled_cov + X_train_class_i\n",
    "            x_current = np.matrix(X_train_class_i[j,:]).T\n",
    "            \n",
    "            pooled_cov = pooled_cov + (x_current - mu_i) * (x_current - mu_i).T\n",
    "            \n",
    "    pooled_cov = 1/(N - K) * pooled_cov\n",
    "\n",
    "    return pooled_cov, mu, pi"
   ]
  },
  {
   "cell_type": "code",
   "execution_count": 5,
   "metadata": {},
   "outputs": [],
   "source": [
    "pooled_cov, mu, pi = get_pooled_cov(X_train, y_train)"
   ]
  },
  {
   "cell_type": "code",
   "execution_count": null,
   "metadata": {},
   "outputs": [],
   "source": []
  },
  {
   "cell_type": "code",
   "execution_count": null,
   "metadata": {},
   "outputs": [],
   "source": []
  },
  {
   "cell_type": "code",
   "execution_count": 6,
   "metadata": {},
   "outputs": [],
   "source": [
    "def LDA(X_train, y_train, X_test, shrinkage):\n",
    "    \n",
    "    class_num = np.unique(y_train).astype(int)\n",
    "    K = len(class_num)\n",
    "    \n",
    "    N_test = len(y_test)\n",
    "    \n",
    "    p = len(X_train[0,:])\n",
    "    \n",
    "    pooled_cov, mu, pi = get_pooled_cov(X_train, y_train)\n",
    "    \n",
    "    pooled_cov = (1-shrinkage) * pooled_cov + shrinkage * np.identity(p)\n",
    "    \n",
    "    pooled_cov_inv = pooled_cov.I\n",
    "        \n",
    "    delta = np.zeros((K))\n",
    "    \n",
    "    y_test_pred = np.zeros((N_test))\n",
    "    \n",
    "    for i in range(N_test):\n",
    "        \n",
    "        x_one = np.matrix(X_test[i,:])\n",
    "        # print(x_one)\n",
    "        \n",
    "        for j in range(K):\n",
    "            \n",
    "           # print(x_one.shape)\n",
    "            #print(pooled_cov.shape)\n",
    "            #print(mu[j].shape)\n",
    "            \n",
    "            delta[j] = np.log(pi[j]) + x_one *(pooled_cov_inv) * (mu[j]) - 0.5 * mu[j].T * (pooled_cov_inv) * (mu[j])\n",
    "        # print(delta)\n",
    "    \n",
    "    # np.log(pi[j]) \n",
    "        y_test_pred[i] = np.argmax(delta) + 1\n",
    "        \n",
    "    return y_test_pred"
   ]
  },
  {
   "cell_type": "code",
   "execution_count": null,
   "metadata": {},
   "outputs": [],
   "source": []
  },
  {
   "cell_type": "code",
   "execution_count": null,
   "metadata": {},
   "outputs": [],
   "source": []
  },
  {
   "cell_type": "code",
   "execution_count": 7,
   "metadata": {},
   "outputs": [],
   "source": [
    "def LDA_usd_in_loop(X_test, shrinkage, mu, pi, pooled_cov):\n",
    "    \n",
    "    class_num = np.unique(y_train).astype(int)\n",
    "    K = len(class_num)\n",
    "    \n",
    "    N_test = len(y_test)\n",
    "    \n",
    "    p = len(X_train[0,:])\n",
    "    \n",
    "    \n",
    "    # pooled_cov = (1-shrinkage) * pooled_cov + shrinkage * np.identity(p)\n",
    "    \n",
    "    pooled_cov =  pooled_cov + shrinkage * np.identity(p)\n",
    "    \n",
    "    pooled_cov_inv = pooled_cov.I\n",
    "        \n",
    "    delta = np.zeros((K))\n",
    "    \n",
    "    y_test_pred = np.zeros((N_test))\n",
    "    \n",
    "    for i in range(N_test):\n",
    "        \n",
    "        x_one = np.matrix(X_test[i,:])\n",
    "        # print(x_one)\n",
    "        \n",
    "        for j in range(K):\n",
    "            \n",
    "           # print(x_one.shape)\n",
    "            #print(pooled_cov.shape)\n",
    "            #print(mu[j].shape)\n",
    "            \n",
    "            delta[j] = np.log(pi[j]) + x_one *(pooled_cov_inv) * (mu[j]) - 0.5 * mu[j].T * (pooled_cov_inv) * (mu[j])\n",
    "        # print(delta)\n",
    "    \n",
    "    # np.log(pi[j]) \n",
    "        y_test_pred[i] = np.argmax(delta) + 1\n",
    "        \n",
    "    return y_test_pred"
   ]
  },
  {
   "cell_type": "code",
   "execution_count": 8,
   "metadata": {},
   "outputs": [
    {
     "data": {
      "text/plain": [
       "0.9416355615880556"
      ]
     },
     "execution_count": 8,
     "metadata": {},
     "output_type": "execute_result"
    }
   ],
   "source": [
    "y_test_pred = LDA_usd_in_loop(X_test, 0.5, mu, pi, pooled_cov)\n",
    "accuracy_score(y_test_pred, y_test)"
   ]
  },
  {
   "cell_type": "code",
   "execution_count": null,
   "metadata": {},
   "outputs": [],
   "source": []
  },
  {
   "cell_type": "code",
   "execution_count": 9,
   "metadata": {},
   "outputs": [
    {
     "name": "stdout",
     "output_type": "stream",
     "text": [
      "[0.030539531727180182, 0.9569053274516457, 0.9524940617577197, 0.9501187648456056, 0.9494401085850017, 0.9467254835425857, 0.9446895147607737, 0.9440108585001696, 0.9423142178486597, 0.9419748897183576, 0.9416355615880556, 0.9395995928062436, 0.9382422802850356, 0.9375636240244316, 0.9358669833729216, 0.9348489989820156, 0.9331523583305056, 0.9341703427214116, 0.9338310145911096, 0.9331523583305056, 0.9324737020699015]\n"
     ]
    }
   ],
   "source": [
    "accuracy = []\n",
    "for shrinkage in np.arange(0.00,1.01,0.05):\n",
    "    y_test_pred = LDA_usd_in_loop(X_test, shrinkage, mu, pi, pooled_cov)\n",
    "    accuracy.append(accuracy_score(y_test_pred, y_test))\n",
    "    \n",
    "print(accuracy)"
   ]
  },
  {
   "cell_type": "code",
   "execution_count": 10,
   "metadata": {},
   "outputs": [
    {
     "data": {
      "text/plain": [
       "array([0.  , 0.05, 0.1 , 0.15, 0.2 , 0.25, 0.3 , 0.35, 0.4 , 0.45, 0.5 ,\n",
       "       0.55, 0.6 , 0.65, 0.7 , 0.75, 0.8 , 0.85, 0.9 , 0.95, 1.  ])"
      ]
     },
     "execution_count": 10,
     "metadata": {},
     "output_type": "execute_result"
    }
   ],
   "source": []
  },
  {
   "cell_type": "code",
   "execution_count": null,
   "metadata": {},
   "outputs": [],
   "source": []
  }
 ],
 "metadata": {
  "kernelspec": {
   "display_name": "Python 3",
   "language": "python",
   "name": "python3"
  },
  "language_info": {
   "codemirror_mode": {
    "name": "ipython",
    "version": 3
   },
   "file_extension": ".py",
   "mimetype": "text/x-python",
   "name": "python",
   "nbconvert_exporter": "python",
   "pygments_lexer": "ipython3",
   "version": "3.7.2"
  }
 },
 "nbformat": 4,
 "nbformat_minor": 2
}
